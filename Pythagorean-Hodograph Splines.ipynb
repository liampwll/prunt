{
 "cells": [
  {
   "cell_type": "markdown",
   "id": "ebf8d554-366a-4b01-ace6-d5bc32c3c390",
   "metadata": {},
   "source": [
    "# Preamble"
   ]
  },
  {
   "cell_type": "code",
   "execution_count": 1,
   "id": "e4db8403-5d66-44aa-a732-73212bb44ad4",
   "metadata": {},
   "outputs": [],
   "source": [
    "from sympy import symbols, integrate, Piecewise, sympify, simplify, nsimplify, factorial\n",
    "t, l, b4b5 = symbols(\"t, l, B₄B₅\")"
   ]
  },
  {
   "cell_type": "markdown",
   "id": "9e6e667c-4a30-49f8-b4bd-d66736c3c0a4",
   "metadata": {},
   "source": [
    "# Introduction\n",
    "\n",
    "The splines used for corner blending in Prunt are based on those presented by Jiang et al. (2022). Only the working relevant to Prunt is detailed here."
   ]
  },
  {
   "cell_type": "markdown",
   "id": "47391139-b5e2-4aaa-a88e-d9c7ebcba725",
   "metadata": {},
   "source": [
    "# Analytical Distance Function\n",
    "\n",
    "To compute the distance along the curve with a given T value we start with Eq. (11) from Jiang et al. (2022). Note that l1 and l2 are both replaced by l as our code uses only symmetrical curves:"
   ]
  },
  {
   "cell_type": "code",
   "execution_count": 2,
   "id": "3e6943c4-2a5e-467f-a958-b677d1256f11",
   "metadata": {},
   "outputs": [],
   "source": [
    "u0u7v0v7 = ((2145 * abs(b4b5))**2 - 22500 * l * l - (1995 * l)**2) / (39900 * l)\n",
    "\n",
    "sigma = [\n",
    "    15 * l,\n",
    "    15 * l,\n",
    "    15 * l,\n",
    "    15 * l,\n",
    "    sympify(\"10/143\") * u0u7v0v7 + sympify(\"133/143\") * 15 * l,\n",
    "    sympify(\"38/143\") * u0u7v0v7 + sympify(\"105/143\") * 15 * l,\n",
    "    sympify(\"254/429\") * u0u7v0v7 + sympify(\"175/429\") * 15 * l,\n",
    "    u0u7v0v7,\n",
    "    sympify(\"254/429\") * u0u7v0v7 + sympify(\"175/429\") * 15 * l,\n",
    "    sympify(\"38/143\") * u0u7v0v7 + sympify(\"105/143\") * 15 * l,\n",
    "    sympify(\"10/143\") * u0u7v0v7 + sympify(\"133/143\") * 15 * l,\n",
    "    15 * l,\n",
    "    15 * l,\n",
    "    15 * l,\n",
    "    15 * l\n",
    "]"
   ]
  },
  {
   "cell_type": "markdown",
   "id": "26c22d6d-8076-4260-9a69-f4cf7a36a9c3",
   "metadata": {},
   "source": [
    "We then multiply these by the bezier basis functions as described by Jiang et al. (2022) to compute the parametric speed function:"
   ]
  },
  {
   "cell_type": "code",
   "execution_count": 3,
   "id": "b87df9f0-f822-4e48-afa9-2c6a8c01c3a5",
   "metadata": {},
   "outputs": [
    {
     "data": {
      "text/latex": [
       "$\\displaystyle \\frac{t^{i} \\left(1 - t\\right)^{- i + m} m!}{i! \\left(- i + m\\right)!}$"
      ],
      "text/plain": [
       "t**i*(1 - t)**(-i + m)*factorial(m)/(factorial(i)*factorial(-i + m))"
      ]
     },
     "execution_count": 3,
     "metadata": {},
     "output_type": "execute_result"
    }
   ],
   "source": [
    "def bezier_basis(m, i, t):\n",
    "    return (factorial(m) / (factorial(i) * factorial(m - i))) * t**i * (1 - t)**(m - i)\n",
    "bezier_basis(sympify(\"m\"), sympify(\"i\"), sympify(\"t\"))"
   ]
  },
  {
   "cell_type": "code",
   "execution_count": 4,
   "id": "c8199d0e-910b-4220-aac7-6ed7ad2a6dac",
   "metadata": {},
   "outputs": [
    {
     "data": {
      "text/latex": [
       "$\\displaystyle \\frac{3 \\cdot \\left(8179600 l^{2} t^{14} - 57257200 l^{2} t^{13} + 168908740 l^{2} t^{12} - 269108840 l^{2} t^{11} + 244488244 l^{2} t^{10} - 120240120 l^{2} t^{9} + 25050025 l^{2} t^{8} + 408980 l^{2} t^{7} - 1431430 l^{2} t^{6} + 1717716 l^{2} t^{5} - 715715 l^{2} t^{4} + 1330 l^{2} - 8179600 t^{14} \\left|{B₄B₅}\\right|^{2} + 57257200 t^{13} \\left|{B₄B₅}\\right|^{2} - 168908740 t^{12} \\left|{B₄B₅}\\right|^{2} + 269108840 t^{11} \\left|{B₄B₅}\\right|^{2} - 244488244 t^{10} \\left|{B₄B₅}\\right|^{2} + 120240120 t^{9} \\left|{B₄B₅}\\right|^{2} - 25050025 t^{8} \\left|{B₄B₅}\\right|^{2} - 408980 t^{7} \\left|{B₄B₅}\\right|^{2} + 1431430 t^{6} \\left|{B₄B₅}\\right|^{2} - 1717716 t^{5} \\left|{B₄B₅}\\right|^{2} + 715715 t^{4} \\left|{B₄B₅}\\right|^{2}\\right)}{266 l}$"
      ],
      "text/plain": [
       "3*(8179600*l**2*t**14 - 57257200*l**2*t**13 + 168908740*l**2*t**12 - 269108840*l**2*t**11 + 244488244*l**2*t**10 - 120240120*l**2*t**9 + 25050025*l**2*t**8 + 408980*l**2*t**7 - 1431430*l**2*t**6 + 1717716*l**2*t**5 - 715715*l**2*t**4 + 1330*l**2 - 8179600*t**14*Abs(B₄B₅)**2 + 57257200*t**13*Abs(B₄B₅)**2 - 168908740*t**12*Abs(B₄B₅)**2 + 269108840*t**11*Abs(B₄B₅)**2 - 244488244*t**10*Abs(B₄B₅)**2 + 120240120*t**9*Abs(B₄B₅)**2 - 25050025*t**8*Abs(B₄B₅)**2 - 408980*t**7*Abs(B₄B₅)**2 + 1431430*t**6*Abs(B₄B₅)**2 - 1717716*t**5*Abs(B₄B₅)**2 + 715715*t**4*Abs(B₄B₅)**2)/(266*l)"
      ]
     },
     "execution_count": 4,
     "metadata": {},
     "output_type": "execute_result"
    }
   ],
   "source": [
    "speed = sum((sigma[i] * bezier_basis(14, i, t) for i in range(0, 15)))\n",
    "simplify(speed)"
   ]
  },
  {
   "cell_type": "markdown",
   "id": "bbeacceb-5e4f-42fa-a27e-1d4725de903c",
   "metadata": {},
   "source": [
    "Finally we integrate the speed function to compute the distance function:"
   ]
  },
  {
   "cell_type": "code",
   "execution_count": 5,
   "id": "f82034ca-a651-40f1-8a04-2d85026fe1c6",
   "metadata": {},
   "outputs": [
    {
     "data": {
      "text/latex": [
       "$\\displaystyle \\frac{t \\left(23940 l^{2} + 9815520 t^{14} \\left(l^{2} - \\left|{B₄B₅}\\right|^{2}\\right) + 73616400 t^{13} \\left(- l^{2} + \\left|{B₄B₅}\\right|^{2}\\right) + 233873640 t^{12} \\left(l^{2} - \\left|{B₄B₅}\\right|^{2}\\right) + 403663260 t^{11} \\left(- l^{2} + \\left|{B₄B₅}\\right|^{2}\\right) + 400071672 t^{10} \\left(l^{2} - \\left|{B₄B₅}\\right|^{2}\\right) + 216432216 t^{9} \\left(- l^{2} + \\left|{B₄B₅}\\right|^{2}\\right) + 50100050 t^{8} \\left(l^{2} - \\left|{B₄B₅}\\right|^{2}\\right) + 920205 t^{7} \\left(l^{2} - \\left|{B₄B₅}\\right|^{2}\\right) + 3680820 t^{6} \\left(- l^{2} + \\left|{B₄B₅}\\right|^{2}\\right) + 5153148 t^{5} \\left(l^{2} - \\left|{B₄B₅}\\right|^{2}\\right) + 2576574 t^{4} \\left(- l^{2} + \\left|{B₄B₅}\\right|^{2}\\right)\\right)}{1596 l}$"
      ],
      "text/plain": [
       "t*(23940*l**2 + 9815520*t**14*(l**2 - Abs(B₄B₅)**2) + 73616400*t**13*(-l**2 + Abs(B₄B₅)**2) + 233873640*t**12*(l**2 - Abs(B₄B₅)**2) + 403663260*t**11*(-l**2 + Abs(B₄B₅)**2) + 400071672*t**10*(l**2 - Abs(B₄B₅)**2) + 216432216*t**9*(-l**2 + Abs(B₄B₅)**2) + 50100050*t**8*(l**2 - Abs(B₄B₅)**2) + 920205*t**7*(l**2 - Abs(B₄B₅)**2) + 3680820*t**6*(-l**2 + Abs(B₄B₅)**2) + 5153148*t**5*(l**2 - Abs(B₄B₅)**2) + 2576574*t**4*(-l**2 + Abs(B₄B₅)**2))/(1596*l)"
      ]
     },
     "execution_count": 5,
     "metadata": {},
     "output_type": "execute_result"
    }
   ],
   "source": [
    "simplify(integrate(speed, t))"
   ]
  },
  {
   "cell_type": "markdown",
   "id": "59e2d482-8846-4f58-8438-07c7437d8dde",
   "metadata": {},
   "source": [
    "# Bezier Basis Functions\n",
    "The bezier basis functions may also be used to compute a point on the bezier curve, as is done in Point_At_T_V2 in Motion.PH_Beziers:"
   ]
  },
  {
   "cell_type": "code",
   "execution_count": 6,
   "id": "6d4c1113-336d-43eb-84a7-e048b52d17ee",
   "metadata": {},
   "outputs": [
    {
     "name": "stdout",
     "output_type": "stream",
     "text": [
      "Bez.Control_Points (0) * ((1 - t)**15)\n",
      "+ Scaled_Position_Offset (Bez.Control_Points (1)) * (15*t*(1 - t)**14)\n",
      "+ Scaled_Position_Offset (Bez.Control_Points (2)) * (105*t**2*(1 - t)**13)\n",
      "+ Scaled_Position_Offset (Bez.Control_Points (3)) * (455*t**3*(1 - t)**12)\n",
      "+ Scaled_Position_Offset (Bez.Control_Points (4)) * (1365*t**4*(1 - t)**11)\n",
      "+ Scaled_Position_Offset (Bez.Control_Points (5)) * (3003*t**5*(1 - t)**10)\n",
      "+ Scaled_Position_Offset (Bez.Control_Points (6)) * (5005*t**6*(1 - t)**9)\n",
      "+ Scaled_Position_Offset (Bez.Control_Points (7)) * (6435*t**7*(1 - t)**8)\n",
      "+ Scaled_Position_Offset (Bez.Control_Points (8)) * (6435*t**8*(1 - t)**7)\n",
      "+ Scaled_Position_Offset (Bez.Control_Points (9)) * (5005*t**9*(1 - t)**6)\n",
      "+ Scaled_Position_Offset (Bez.Control_Points (10)) * (3003*t**10*(1 - t)**5)\n",
      "+ Scaled_Position_Offset (Bez.Control_Points (11)) * (1365*t**11*(1 - t)**4)\n",
      "+ Scaled_Position_Offset (Bez.Control_Points (12)) * (455*t**12*(1 - t)**3)\n",
      "+ Scaled_Position_Offset (Bez.Control_Points (13)) * (105*t**13*(1 - t)**2)\n",
      "+ Scaled_Position_Offset (Bez.Control_Points (14)) * (15*t**14*(1 - t))\n",
      "+ Scaled_Position_Offset (Bez.Control_Points (15)) * (t**15)\n"
     ]
    }
   ],
   "source": [
    "print(\"Bez.Control_Points (0) * (\" + str(bezier_basis(15, 0, t)) + \")\")\n",
    "for i in range(1, 16):\n",
    "    print(\"+ Scaled_Position_Offset (Bez.Control_Points (\" + str(i) + \")) * (\" + str(bezier_basis(15, i, t)) + \")\")"
   ]
  },
  {
   "cell_type": "markdown",
   "id": "b65e5d99-20e3-4f43-9884-379e01454e99",
   "metadata": {},
   "source": [
    "# Curvature\n",
    "The equation used for curvature in Motion.PH_Beziers was found by trial and error. At some point in the future we will prove that the equation is correct."
   ]
  },
  {
   "cell_type": "markdown",
   "id": "d27ab9f4-8094-4037-9ffc-c552e09d9f0a",
   "metadata": {},
   "source": [
    "# References\n",
    "\n",
    "Jiang, X., Hu, Y., Huo, G., Su, C., Wang, B., Li, H., ... & Zheng, Z. (2022). Asymmetrical Pythagorean-hodograph spline-based C⁴ continuous local corner smoothing method with jerk-continuous feedrate scheduling along linear toolpath. *The International Journal of Advanced Manufacturing Technology*, 121(9-10), 5731-5754. https://doi.org/10.1007/s00170-022-09463-y"
   ]
  }
 ],
 "metadata": {
  "kernelspec": {
   "display_name": "Python 3 (ipykernel)",
   "language": "python",
   "name": "python3"
  },
  "language_info": {
   "codemirror_mode": {
    "name": "ipython",
    "version": 3
   },
   "file_extension": ".py",
   "mimetype": "text/x-python",
   "name": "python",
   "nbconvert_exporter": "python",
   "pygments_lexer": "ipython3",
   "version": "3.11.7"
  }
 },
 "nbformat": 4,
 "nbformat_minor": 5
}
